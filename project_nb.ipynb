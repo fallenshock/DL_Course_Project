{
  "nbformat": 4,
  "nbformat_minor": 0,
  "metadata": {
    "accelerator": "GPU",
    "colab": {
      "name": "proj_DL_classifiers.ipynb",
      "provenance": [],
      "collapsed_sections": []
    },
    "kernelspec": {
      "display_name": "Python 3",
      "language": "python",
      "name": "python3"
    },
    "language_info": {
      "codemirror_mode": {
        "name": "ipython",
        "version": 3
      },
      "file_extension": ".py",
      "mimetype": "text/x-python",
      "name": "python",
      "nbconvert_exporter": "python",
      "pygments_lexer": "ipython3",
      "version": "3.6.13"
    }
  },
  "cells": [
    {
      "cell_type": "code",
      "metadata": {
        "id": "aVZskp-CzcEJ"
      },
      "source": [
        ""
      ],
      "execution_count": null,
      "outputs": []
    },
    {
      "cell_type": "code",
      "metadata": {
        "colab": {
          "base_uri": "https://localhost:8080/"
        },
        "id": "k69TehS5MhAn",
        "outputId": "ad2bb32e-5c21-4617-d2b2-4ae004822532"
      },
      "source": [
        "# we are working in colab with the datasets saved in google drive.\n",
        "# if you are interested in working locally, just place the datasets from \n",
        "# github into a local directory and change the corresponding path in the code.\n",
        "from google.colab import drive\n",
        "drive.mount('/content/drive')"
      ],
      "execution_count": 1,
      "outputs": [
        {
          "output_type": "stream",
          "text": [
            "Mounted at /content/drive\n"
          ],
          "name": "stdout"
        }
      ]
    },
    {
      "cell_type": "markdown",
      "metadata": {
        "id": "ozWlelLEzdL9"
      },
      "source": [
        "DL Project notebook"
      ]
    },
    {
      "cell_type": "code",
      "metadata": {
        "id": "7gvYflwszjuA"
      },
      "source": [
        "\n",
        "import numpy as np\n",
        "import matplotlib.pyplot as plt\n",
        "import imageio\n",
        "import time\n",
        "import os\n",
        "import copy\n",
        "\n",
        "# pytorch imports\n",
        "import torch\n",
        "import torch.nn as nn\n",
        "import torch.nn.functional as F\n",
        "from torch.utils.data import DataLoader, Dataset\n",
        "from torchvision.datasets import ImageFolder\n",
        "from torchvision import models, transforms\n",
        "import torchvision\n",
        "from torch.utils.data.sampler import SubsetRandomSampler"
      ],
      "execution_count": null,
      "outputs": []
    },
    {
      "cell_type": "code",
      "metadata": {
        "id": "4s1ZxDHr2vdS"
      },
      "source": [
        "# helper function for transfer learning\n",
        "def set_parameter_requires_grad(model, feature_extracting=False):\n",
        "    if feature_extracting:\n",
        "        for param in model.parameters():\n",
        "            param.requires_grad = False\n",
        "    else:\n",
        "        for param in model.parameters():\n",
        "            param.requires_grad = True"
      ],
      "execution_count": 3,
      "outputs": []
    },
    {
      "cell_type": "code",
      "metadata": {
        "id": "GLzJtQ9R07zX"
      },
      "source": [
        "# helper function to load a popular architecture(we will be using VGG for our project)\n",
        "def initialize_model(model_name, num_classes, feature_extract, use_pretrained=True):\n",
        "    # Initialize these variables which will be set in this if statement. Each of these\n",
        "    #   variables is model specific.\n",
        "    model_ft = None\n",
        "    input_size = 0  # image size, e.g. (3, 128, 128)\n",
        "\n",
        "    if model_name == \"resnet\":\n",
        "        \"\"\" Resnet18\n",
        "        \"\"\"\n",
        "        model_ft = models.resnet18(pretrained=use_pretrained)\n",
        "        set_parameter_requires_grad(model_ft, feature_extract)\n",
        "        num_ftrs = model_ft.fc.in_features\n",
        "        model_ft.fc = nn.Linear(num_ftrs, num_classes) # replace the last FC layer\n",
        "        input_size = 128\n",
        "\n",
        "    elif model_name == \"alexnet\":\n",
        "        \"\"\" Alexnet\n",
        "        \"\"\"\n",
        "        model_ft = models.alexnet(pretrained=use_pretrained)\n",
        "        set_parameter_requires_grad(model_ft, feature_extract)\n",
        "        num_ftrs = model_ft.classifier[6].in_features\n",
        "        model_ft.classifier[6] = nn.Linear(num_ftrs, num_classes)\n",
        "        input_size = 128\n",
        "\n",
        "    elif model_name == \"vgg\":\n",
        "        \"\"\" VGG16\n",
        "        \"\"\"\n",
        "        model_ft = models.vgg16(pretrained=use_pretrained)\n",
        "        set_parameter_requires_grad(model_ft, feature_extract)\n",
        "        num_ftrs = model_ft.classifier[6].in_features\n",
        "        model_ft.classifier[6] = nn.Linear(num_ftrs, num_classes)\n",
        "        input_size = 128\n",
        "\n",
        "    elif model_name == \"squeezenet\":\n",
        "        \"\"\" Squeezenet\n",
        "        \"\"\"\n",
        "        model_ft = models.squeezenet1_0(pretrained=use_pretrained)\n",
        "        set_parameter_requires_grad(model_ft, feature_extract)\n",
        "        model_ft.classifier[1] = nn.Conv2d(512, num_classes, kernel_size=(1,1), stride=(1,1))\n",
        "        model_ft.num_classes = num_classes\n",
        "        input_size = 128\n",
        "\n",
        "    elif model_name == \"densenet\":\n",
        "        \"\"\" Densenet\n",
        "        \"\"\"\n",
        "        model_ft = models.densenet121(pretrained=use_pretrained)\n",
        "        set_parameter_requires_grad(model_ft, feature_extract)\n",
        "        num_ftrs = model_ft.classifier.in_features\n",
        "        model_ft.classifier = nn.Linear(num_ftrs, num_classes)\n",
        "        input_size = 128\n",
        "\n",
        "    else:\n",
        "        raise NotImplementedError\n",
        "\n",
        "    return model_ft, input_size"
      ],
      "execution_count": 4,
      "outputs": []
    },
    {
      "cell_type": "code",
      "metadata": {
        "id": "fNZw7j2U1tFt"
      },
      "source": [
        "# Models to choose from [resnet, alexnet, vgg, squeezenet, densenet]\n",
        "model_name = \"vgg\"\n",
        "\n",
        "# Number of classes in the dataset\n",
        "num_classes = 2\n",
        "\n",
        "# Batch size for training (change depending on how much memory you have)\n",
        "batch_size = 64\n",
        "\n",
        "# Number of epochs to train for\n",
        "num_epochs = 15\n",
        "\n",
        "# Flag for feature extracting. When False, we fine-tune the whole model,\n",
        "#   when True we only update the reshaped layer params\n",
        "feature_extract = False"
      ],
      "execution_count": 5,
      "outputs": []
    },
    {
      "cell_type": "markdown",
      "metadata": {
        "id": "Y2d_z9a70a1n"
      },
      "source": [
        "Note: If you wish to experiment with transfer learning, set use_pretrained to 'True'."
      ]
    },
    {
      "cell_type": "code",
      "metadata": {
        "colab": {
          "base_uri": "https://localhost:8080/"
        },
        "id": "wzSjVEM11t6c",
        "outputId": "33f0ab19-cfd5-44d7-f37a-9435532df63b"
      },
      "source": [
        "# Initialize the model for this run \n",
        "# You can set use_pretrained=True to use a pretrained model\n",
        "model_orig, input_size = initialize_model(model_name, num_classes, feature_extract, use_pretrained=False) # we fully train the model(just use the arch for 2 classes)\n",
        "\n",
        "# Print the model we just instantiated\n",
        "print(model_orig)"
      ],
      "execution_count": 6,
      "outputs": [
        {
          "output_type": "stream",
          "text": [
            "VGG(\n",
            "  (features): Sequential(\n",
            "    (0): Conv2d(3, 64, kernel_size=(3, 3), stride=(1, 1), padding=(1, 1))\n",
            "    (1): ReLU(inplace=True)\n",
            "    (2): Conv2d(64, 64, kernel_size=(3, 3), stride=(1, 1), padding=(1, 1))\n",
            "    (3): ReLU(inplace=True)\n",
            "    (4): MaxPool2d(kernel_size=2, stride=2, padding=0, dilation=1, ceil_mode=False)\n",
            "    (5): Conv2d(64, 128, kernel_size=(3, 3), stride=(1, 1), padding=(1, 1))\n",
            "    (6): ReLU(inplace=True)\n",
            "    (7): Conv2d(128, 128, kernel_size=(3, 3), stride=(1, 1), padding=(1, 1))\n",
            "    (8): ReLU(inplace=True)\n",
            "    (9): MaxPool2d(kernel_size=2, stride=2, padding=0, dilation=1, ceil_mode=False)\n",
            "    (10): Conv2d(128, 256, kernel_size=(3, 3), stride=(1, 1), padding=(1, 1))\n",
            "    (11): ReLU(inplace=True)\n",
            "    (12): Conv2d(256, 256, kernel_size=(3, 3), stride=(1, 1), padding=(1, 1))\n",
            "    (13): ReLU(inplace=True)\n",
            "    (14): Conv2d(256, 256, kernel_size=(3, 3), stride=(1, 1), padding=(1, 1))\n",
            "    (15): ReLU(inplace=True)\n",
            "    (16): MaxPool2d(kernel_size=2, stride=2, padding=0, dilation=1, ceil_mode=False)\n",
            "    (17): Conv2d(256, 512, kernel_size=(3, 3), stride=(1, 1), padding=(1, 1))\n",
            "    (18): ReLU(inplace=True)\n",
            "    (19): Conv2d(512, 512, kernel_size=(3, 3), stride=(1, 1), padding=(1, 1))\n",
            "    (20): ReLU(inplace=True)\n",
            "    (21): Conv2d(512, 512, kernel_size=(3, 3), stride=(1, 1), padding=(1, 1))\n",
            "    (22): ReLU(inplace=True)\n",
            "    (23): MaxPool2d(kernel_size=2, stride=2, padding=0, dilation=1, ceil_mode=False)\n",
            "    (24): Conv2d(512, 512, kernel_size=(3, 3), stride=(1, 1), padding=(1, 1))\n",
            "    (25): ReLU(inplace=True)\n",
            "    (26): Conv2d(512, 512, kernel_size=(3, 3), stride=(1, 1), padding=(1, 1))\n",
            "    (27): ReLU(inplace=True)\n",
            "    (28): Conv2d(512, 512, kernel_size=(3, 3), stride=(1, 1), padding=(1, 1))\n",
            "    (29): ReLU(inplace=True)\n",
            "    (30): MaxPool2d(kernel_size=2, stride=2, padding=0, dilation=1, ceil_mode=False)\n",
            "  )\n",
            "  (avgpool): AdaptiveAvgPool2d(output_size=(7, 7))\n",
            "  (classifier): Sequential(\n",
            "    (0): Linear(in_features=25088, out_features=4096, bias=True)\n",
            "    (1): ReLU(inplace=True)\n",
            "    (2): Dropout(p=0.5, inplace=False)\n",
            "    (3): Linear(in_features=4096, out_features=4096, bias=True)\n",
            "    (4): ReLU(inplace=True)\n",
            "    (5): Dropout(p=0.5, inplace=False)\n",
            "    (6): Linear(in_features=4096, out_features=2, bias=True)\n",
            "  )\n",
            ")\n"
          ],
          "name": "stdout"
        }
      ]
    },
    {
      "cell_type": "code",
      "metadata": {
        "id": "DzcdCaLE5HuM",
        "colab": {
          "base_uri": "https://localhost:8080/"
        },
        "outputId": "66957d89-a524-4e3a-e97a-2ff6ad240fd8"
      },
      "source": [
        "# Data resize and normalization for training and test (can also be saved for training the GAN)\n",
        "data_transforms = {\n",
        "    'train': transforms.Compose([\n",
        "        transforms.Resize(128),\n",
        "        transforms.CenterCrop(128),\n",
        "        transforms.ToTensor(),\n",
        "        transforms.Normalize([0.485, 0.456, 0.406], [0.229, 0.224, 0.225])\n",
        "    ]),\n",
        "    'test': transforms.Compose([\n",
        "        transforms.Resize(128),\n",
        "        transforms.CenterCrop(128),\n",
        "        transforms.ToTensor(),\n",
        "        transforms.Normalize([0.485, 0.456, 0.406], [0.229, 0.224, 0.225])\n",
        "    ]),\n",
        "}\n",
        "\n",
        "# fetch the data from drive (change to local if interested)\n",
        "data_dir = '/content/drive/MyDrive/datasets/IceCreamVsWaffles'\n",
        "image_datasets = {x: ImageFolder(os.path.join(data_dir, x), data_transforms[x]) for x in ['train', 'test']}\n",
        "dataloaders = {x: DataLoader(image_datasets[x], batch_size=batch_size,\n",
        "                             shuffle=True, num_workers=1) for x in ['train', 'test']}\n",
        "dataset_sizes = {x: len(image_datasets[x]) for x in ['train', 'test']}\n",
        "class_names = image_datasets['train'].classes\n",
        "\n",
        "device = torch.device(\"cuda:0\" if torch.cuda.is_available() else \"cpu\")\n",
        "print(device)\n"
      ],
      "execution_count": 7,
      "outputs": [
        {
          "output_type": "stream",
          "text": [
            "cuda:0\n"
          ],
          "name": "stdout"
        }
      ]
    },
    {
      "cell_type": "code",
      "metadata": {
        "id": "7UK10azbMB7c"
      },
      "source": [
        "# used to visualize the images\n",
        "def imshow(inp, title=None):\n",
        "    \"\"\"Imshow for Tensor.\"\"\"\n",
        "    inp = inp.numpy().transpose((1, 2, 0))\n",
        "    mean = np.array([0.485, 0.456, 0.406])\n",
        "    std = np.array([0.229, 0.224, 0.225])\n",
        "    inp = std * inp + mean\n",
        "    inp = np.clip(inp, 0, 1)\n",
        "    fig = plt.figure(figsize=(5, 8))\n",
        "    ax = fig.add_subplot(111)\n",
        "    ax.imshow(inp)\n",
        "    if title is not None:\n",
        "        ax.set_title(title)\n",
        "    ax.set_axis_off()"
      ],
      "execution_count": 8,
      "outputs": []
    },
    {
      "cell_type": "code",
      "metadata": {
        "id": "802MA5Fsy4OO"
      },
      "source": [
        "# used to save the images\n",
        "def imsave(inp,name = 'filename'):\n",
        "    \"\"\"Imshow for Tensor.\"\"\"\n",
        "    inp = inp.numpy().transpose((1, 2, 0))\n",
        "    mean = np.array([0.485, 0.456, 0.406])\n",
        "    std = np.array([0.229, 0.224, 0.225])\n",
        "    inp = std * inp + mean\n",
        "    inp = np.clip(inp, 0, 1)\n",
        "    inp = (inp*255).astype(np.uint8)\n",
        "    #print(inp.shape)\n",
        "    imageio.imwrite('%s.png' %name, inp)\n"
      ],
      "execution_count": 9,
      "outputs": []
    },
    {
      "cell_type": "markdown",
      "metadata": {
        "id": "Zs_cXbUJHiYV"
      },
      "source": [
        "The next cell is important, as it allows us to save the normalized and cropped training data as input to the GAN."
      ]
    },
    {
      "cell_type": "code",
      "metadata": {
        "id": "T0THOOarzvY_"
      },
      "source": [
        "# save normalized and resized images for gan training (set need_save to true to save)\n",
        "\n",
        "need_save = False\n",
        "if need_save:\n",
        "    save_path_ice_cream = '/content/drive/MyDrive/datasets/gan_train_ice_cream'\n",
        "    save_path_waffles = '/content/drive/MyDrive/datasets/gan_train_waffles'\n",
        "    ic_idx = 0\n",
        "    wf_idx = 0\n",
        "    name = ''\n",
        "    iterator = iter(dataloaders['train'])\n",
        "    for i in range(1,dataset_sizes['train']):\n",
        "        inputs, classes = next(iterator)\n",
        "        #print(classes)\n",
        "        if classes == 0:\n",
        "            name = \"{0}/ic_{1}\".format(save_path_ice_cream, ic_idx) \n",
        "            imsave(inputs.reshape(3,128,128),name)\n",
        "            ic_idx = ic_idx + 1\n",
        "        if classes == 1:\n",
        "            name = \"{0}/wf_{1}\".format(save_path_waffles, wf_idx) \n",
        "            imsave(inputs.reshape(3,128,128),name)\n",
        "            wf_idx = wf_idx + 1\n",
        "\n",
        "# save cropped and normalized images to path"
      ],
      "execution_count": 10,
      "outputs": []
    },
    {
      "cell_type": "markdown",
      "metadata": {
        "id": "MnW8ALzl6Xla"
      },
      "source": [
        "After saving the images we can train the GAN(not in Colab):\n",
        "<pre><code># convert data to standard format\n",
        "python dataset_tool.py --source=./saved_images_dir --dest=./gan_in\n",
        "# train model for kimg=1000 (kimg parameter effectively controls training time and quality)\n",
        "python train.py --outdir=./trained_gan --data=./gan_in --kimg=1000\n",
        "# generate 1000 random images from the trained latent space\n",
        "python generate.py --outdir=generated_out --network=./trained_gan --seed=1-1000\n",
        "</code></pre>\n",
        "notes:\n",
        "\n",
        "./saved_images_dir - should contain the images saved after crop and normalization by pytorch (set need_save=True in this notebook and specify path).\n",
        "\n",
        "./generated_out - will contain 1000 new artificially generated images.\n",
        "\n",
        "after generating seperate images for both classes you can merge them with the original training data to create the modified dataset for the second classifier."
      ]
    },
    {
      "cell_type": "code",
      "metadata": {
        "colab": {
          "base_uri": "https://localhost:8080/",
          "height": 117
        },
        "id": "iECXU5iZMB7d",
        "outputId": "00021d02-d915-426a-9a33-d4b35a0c66fc"
      },
      "source": [
        "# Let’s visualize a few training images .\n",
        "# Get a batch of training data\n",
        "inputs, classes = next(iter(dataloaders['train']))\n",
        "\n",
        "# Make a grid from first 4 images in batch and show \n",
        "out = torchvision.utils.make_grid(inputs[1:5])\n",
        "\n",
        "imshow(out, title=[class_names[x] for x in classes[1:5]])"
      ],
      "execution_count": 11,
      "outputs": [
        {
          "output_type": "display_data",
          "data": {
            "image/png": "[encoded data removed]",
            "text/plain": [
              "<Figure size 360x576 with 1 Axes>"
            ]
          },
          "metadata": {
            "tags": [],
            "needs_background": "light"
          }
        }
      ]
    },
    {
      "cell_type": "code",
      "metadata": {
        "id": "XuYVjxKR1Zn4"
      },
      "source": [
        "# split train set to train-val\n",
        "# we use 20% of train data for validation\n",
        "\n",
        "validation_split = .2\n",
        "shuffle_dataset = True\n",
        "random_seed= 42\n",
        "indices = list(range(dataset_sizes['train']))\n",
        "split = int(np.floor(validation_split * dataset_sizes['train']))\n",
        "\n",
        "if shuffle_dataset :\n",
        "    np.random.seed(random_seed)\n",
        "    np.random.shuffle(indices)\n",
        "train_indices, val_indices = indices[split:], indices[:split]\n",
        "\n",
        "# Creating PT data samplers and loaders:\n",
        "train_sampler = SubsetRandomSampler(train_indices)\n",
        "valid_sampler = SubsetRandomSampler(val_indices)\n",
        "data_size = {'train' : 0, 'valid' : 0, 'test' : 0}\n",
        "data_size['train'] = len(train_sampler)\n",
        "data_size['valid'] = len(valid_sampler)\n",
        "data_size['test'] = len(dataloaders['test'])\n",
        "\n",
        "# modifying train and adding validation entry to dataloaders:\n",
        "dataloaders['train'] = DataLoader(image_datasets['train'], batch_size=batch_size, sampler=train_sampler)\n",
        "dataloaders['valid'] = DataLoader(image_datasets['train'], batch_size=batch_size, sampler=valid_sampler) "
      ],
      "execution_count": 12,
      "outputs": []
    },
    {
      "cell_type": "code",
      "metadata": {
        "colab": {
          "base_uri": "https://localhost:8080/"
        },
        "id": "RaiJtMvKMB7d",
        "outputId": "700f7547-fc25-4706-f962-ad32fbd5e355"
      },
      "source": [
        "# send original model to device\n",
        "model_orig = model_orig.to(device)\n",
        "''' only relevant for transfer learning '''\n",
        "# Gather the parameters to be optimized/updated in this run. If we are\n",
        "#  fine-tuning we will be updating all parameters. However, if we are\n",
        "#  doing feature extract method, we will only update the parameters\n",
        "#  that we have just initialized, i.e. the parameters with requires_grad\n",
        "#  is True.\n",
        "params_to_update = model_orig.parameters()\n",
        "print(\"Params to learn:\")\n",
        "if feature_extract:\n",
        "    params_to_update = []\n",
        "    for name,param in model_orig.named_parameters():\n",
        "        if param.requires_grad == True:\n",
        "            params_to_update.append(param)\n",
        "            print(\"\\t\",name)\n",
        "else:\n",
        "    for name,param in model_orig.named_parameters():\n",
        "        if param.requires_grad == True:\n",
        "            print(\"\\t\",name)\n",
        "\n",
        "# Observe that all parameters are being optimized\n",
        "optimizer_ft = torch.optim.SGD(params_to_update, lr=0.001, momentum=0.9)"
      ],
      "execution_count": 13,
      "outputs": [
        {
          "output_type": "stream",
          "text": [
            "Params to learn:\n",
            "\t features.0.weight\n",
            "\t features.0.bias\n",
            "\t features.2.weight\n",
            "\t features.2.bias\n",
            "\t features.5.weight\n",
            "\t features.5.bias\n",
            "\t features.7.weight\n",
            "\t features.7.bias\n",
            "\t features.10.weight\n",
            "\t features.10.bias\n",
            "\t features.12.weight\n",
            "\t features.12.bias\n",
            "\t features.14.weight\n",
            "\t features.14.bias\n",
            "\t features.17.weight\n",
            "\t features.17.bias\n",
            "\t features.19.weight\n",
            "\t features.19.bias\n",
            "\t features.21.weight\n",
            "\t features.21.bias\n",
            "\t features.24.weight\n",
            "\t features.24.bias\n",
            "\t features.26.weight\n",
            "\t features.26.bias\n",
            "\t features.28.weight\n",
            "\t features.28.bias\n",
            "\t classifier.0.weight\n",
            "\t classifier.0.bias\n",
            "\t classifier.3.weight\n",
            "\t classifier.3.bias\n",
            "\t classifier.6.weight\n",
            "\t classifier.6.bias\n"
          ],
          "name": "stdout"
        }
      ]
    },
    {
      "cell_type": "code",
      "metadata": {
        "id": "33vFnETdaQuo"
      },
      "source": [
        "\"\"\"\n",
        "Training function\n",
        "\"\"\"\n",
        "def train_model(model, dataloaders, criterion, optimizer, data_size, num_epochs=25):\n",
        "    since = time.time()\n",
        "\n",
        "    val_acc_history = []\n",
        "\n",
        "    best_model_wts = copy.deepcopy(model.state_dict())\n",
        "    best_acc = 0.0\n",
        "\n",
        "    for epoch in range(num_epochs):\n",
        "        print('Epoch {}/{}'.format(epoch, num_epochs - 1))\n",
        "        print('-' * 10)\n",
        "\n",
        "        # Each epoch has a training and validation phase\n",
        "        for phase in ['train', 'valid']:\n",
        "            if phase == 'train':\n",
        "                model.train()  # Set model to training mode\n",
        "            else:\n",
        "                model.eval()   # Set model to evaluate mode\n",
        "\n",
        "            running_loss = 0.0\n",
        "            running_corrects = 0\n",
        "\n",
        "            # Iterate over data.\n",
        "            for inputs, labels in dataloaders[phase]:\n",
        "                inputs = inputs.to(device)\n",
        "                labels = labels.to(device)\n",
        "\n",
        "                # forward\n",
        "                # track history if only in train\n",
        "                with torch.set_grad_enabled(phase == 'train'):\n",
        "                    # Get model outputs and calculate loss\n",
        "                    outputs = model(inputs)\n",
        "                    loss = criterion(outputs, labels)\n",
        "\n",
        "                    _, preds = torch.max(outputs, 1)\n",
        "\n",
        "                    # backward + optimize only if in training phase\n",
        "                    if phase == 'train':\n",
        "                        # zero the parameter gradients\n",
        "                        optimizer.zero_grad()\n",
        "                        loss.backward()\n",
        "                        optimizer.step()\n",
        "\n",
        "                # statistics\n",
        "                running_loss += loss.item() * inputs.size(0)\n",
        "                running_corrects += torch.sum(preds == labels.data)\n",
        "\n",
        "            epoch_loss = running_loss / data_size[phase]\n",
        "            epoch_acc = running_corrects.double() / data_size[phase]\n",
        "\n",
        "            print('{} Loss: {:.4f} Acc: {:.4f}'.format(phase, epoch_loss, epoch_acc))\n",
        "\n",
        "            # deep copy the model\n",
        "            if phase == 'valid' and epoch_acc > best_acc:\n",
        "                best_acc = epoch_acc\n",
        "                best_model_wts = copy.deepcopy(model.state_dict())\n",
        "            if phase == 'valid':\n",
        "                val_acc_history.append(epoch_acc)\n",
        "\n",
        "        print()\n",
        "\n",
        "    time_elapsed = time.time() - since\n",
        "    print('Training complete in {:.0f}m {:.0f}s'.format(time_elapsed // 60, time_elapsed % 60))\n",
        "    print('Best val Acc: {:4f}'.format(best_acc))\n",
        "\n",
        "    # load best model weights\n",
        "    model.load_state_dict(best_model_wts)\n",
        "    return model, val_acc_history"
      ],
      "execution_count": 14,
      "outputs": []
    },
    {
      "cell_type": "code",
      "metadata": {
        "colab": {
          "base_uri": "https://localhost:8080/"
        },
        "id": "XSNJEvMea-O6",
        "outputId": "c9276c24-7a8e-41de-a725-abefa301a6eb"
      },
      "source": [
        "# Setup the loss fn\n",
        "criterion = nn.CrossEntropyLoss()\n",
        "\n",
        "# Train and evaluate\n",
        "torch.cuda.empty_cache()\n",
        "model_orig, hist_orig = train_model(model_orig, dataloaders, criterion, optimizer_ft, data_size=data_size, num_epochs=num_epochs)"
      ],
      "execution_count": 15,
      "outputs": [
        {
          "output_type": "stream",
          "text": [
            "Epoch 0/14\n",
            "----------\n"
          ],
          "name": "stdout"
        },
        {
          "output_type": "stream",
          "text": [
            "/usr/local/lib/python3.7/dist-packages/torch/nn/functional.py:718: UserWarning: Named tensors and all their associated APIs are an experimental feature and subject to change. Please do not use them for anything important until they are released as stable. (Triggered internally at  /pytorch/c10/core/TensorImpl.h:1156.)\n",
            "  return torch.max_pool2d(input, kernel_size, stride, padding, dilation, ceil_mode)\n"
          ],
          "name": "stderr"
        },
        {
          "output_type": "stream",
          "text": [
            "train Loss: 0.6915 Acc: 0.5250\n",
            "valid Loss: 0.6914 Acc: 0.4790\n",
            "\n",
            "Epoch 1/14\n",
            "----------\n",
            "train Loss: 0.6863 Acc: 0.5646\n",
            "valid Loss: 0.6848 Acc: 0.4790\n",
            "\n",
            "Epoch 2/14\n",
            "----------\n",
            "train Loss: 0.6832 Acc: 0.5333\n",
            "valid Loss: 0.6725 Acc: 0.5462\n",
            "\n",
            "Epoch 3/14\n",
            "----------\n",
            "train Loss: 0.6705 Acc: 0.6125\n",
            "valid Loss: 0.6482 Acc: 0.7563\n",
            "\n",
            "Epoch 4/14\n",
            "----------\n",
            "train Loss: 0.6464 Acc: 0.6604\n",
            "valid Loss: 0.6050 Acc: 0.7899\n",
            "\n",
            "Epoch 5/14\n",
            "----------\n",
            "train Loss: 0.6057 Acc: 0.7438\n",
            "valid Loss: 0.5344 Acc: 0.7563\n",
            "\n",
            "Epoch 6/14\n",
            "----------\n",
            "train Loss: 0.5202 Acc: 0.7688\n",
            "valid Loss: 0.4534 Acc: 0.7983\n",
            "\n",
            "Epoch 7/14\n",
            "----------\n",
            "train Loss: 0.4762 Acc: 0.7937\n",
            "valid Loss: 0.4833 Acc: 0.7647\n",
            "\n",
            "Epoch 8/14\n",
            "----------\n",
            "train Loss: 0.5526 Acc: 0.7438\n",
            "valid Loss: 0.6198 Acc: 0.6723\n",
            "\n",
            "Epoch 9/14\n",
            "----------\n",
            "train Loss: 0.5966 Acc: 0.6687\n",
            "valid Loss: 0.5649 Acc: 0.7227\n",
            "\n",
            "Epoch 10/14\n",
            "----------\n",
            "train Loss: 0.5143 Acc: 0.7750\n",
            "valid Loss: 0.4513 Acc: 0.7563\n",
            "\n",
            "Epoch 11/14\n",
            "----------\n",
            "train Loss: 0.4596 Acc: 0.8000\n",
            "valid Loss: 0.4073 Acc: 0.8319\n",
            "\n",
            "Epoch 12/14\n",
            "----------\n",
            "train Loss: 0.4276 Acc: 0.8187\n",
            "valid Loss: 0.4517 Acc: 0.7983\n",
            "\n",
            "Epoch 13/14\n",
            "----------\n",
            "train Loss: 0.4182 Acc: 0.8187\n",
            "valid Loss: 0.4222 Acc: 0.8067\n",
            "\n",
            "Epoch 14/14\n",
            "----------\n",
            "train Loss: 0.4045 Acc: 0.8312\n",
            "valid Loss: 0.3650 Acc: 0.8403\n",
            "\n",
            "Training complete in 4m 48s\n",
            "Best val Acc: 0.840336\n"
          ],
          "name": "stdout"
        }
      ]
    },
    {
      "cell_type": "markdown",
      "metadata": {
        "id": "jyKS3zjddCIO"
      },
      "source": [
        "Now we shall train an identical model using the GAN enriched training set (300+1000 training samples for each class)."
      ]
    },
    {
      "cell_type": "code",
      "metadata": {
        "id": "VA2VT5BVc--6"
      },
      "source": [
        "# Instantiate new model\n",
        "# Models to choose from [resnet, alexnet, vgg, squeezenet, densenet]\n",
        "model_name = \"vgg\"\n",
        "\n",
        "# Number of classes in the dataset\n",
        "num_classes = 2\n",
        "\n",
        "# Batch size for training (change depending on how much memory you have)\n",
        "batch_size = 64\n",
        "\n",
        "# Number of epochs to train for\n",
        "num_epochs = 15\n",
        "\n",
        "# Flag for feature extracting. When False, we fine-tune the whole model,\n",
        "#   when True we only update the reshaped layer params\n",
        "feature_extract = False \n",
        "# Initialize the model for this run\n",
        "model_gan, input_size = initialize_model(model_name, num_classes, feature_extract, use_pretrained=False) # we fully train the model(just use the arch for 2 classes)\n"
      ],
      "execution_count": 16,
      "outputs": []
    },
    {
      "cell_type": "code",
      "metadata": {
        "id": "LOeNSw8ld8Gr"
      },
      "source": [
        "# Fetch GAN enriched dataset \n",
        "# here you specify the path to the enriched dataset\n",
        "data_dir_gan = '/content/drive/MyDrive/datasets/dataset_gan_enriched_v2'\n",
        "image_datasets_gan = {x: ImageFolder(os.path.join(data_dir_gan, x), data_transforms[x]) for x in ['train', 'test']}\n",
        "dataloaders_gan = {x: DataLoader(image_datasets_gan[x], batch_size=batch_size,\n",
        "                             shuffle=True) for x in ['train', 'test']}\n",
        "dataset_sizes_gan = {x: len(image_datasets_gan[x]) for x in ['train', 'test']}\n",
        "class_names_gan = image_datasets_gan['train'].classes"
      ],
      "execution_count": 17,
      "outputs": []
    },
    {
      "cell_type": "code",
      "metadata": {
        "colab": {
          "base_uri": "https://localhost:8080/",
          "height": 117
        },
        "id": "8pTgWz8FeufG",
        "outputId": "8d14ac9a-2d2f-497c-d599-bb232dbd4c54"
      },
      "source": [
        "# Let’s visualize a few training images (notice the GAN generated images)\n",
        "# Get a batch of training data\n",
        "inputs, classes = next(iter(dataloaders_gan['train']))\n",
        "\n",
        "# Make a grid from batch\n",
        "out = torchvision.utils.make_grid(inputs[1:5])\n",
        "\n",
        "imshow(out, title=[class_names_gan[x] for x in classes[1:5]])"
      ],
      "execution_count": 18,
      "outputs": [
        {
          "output_type": "display_data",
          "data": {
            "image/png": "[encoded data removed]",
            "text/plain": [
              "<Figure size 360x576 with 1 Axes>"
            ]
          },
          "metadata": {
            "tags": [],
            "needs_background": "light"
          }
        }
      ]
    },
    {
      "cell_type": "code",
      "metadata": {
        "id": "up0n2Hfg57eE"
      },
      "source": [
        "# further split train set to train-val\n",
        "\n",
        "\n",
        "validation_split = .2\n",
        "shuffle_dataset = True\n",
        "random_seed= 42\n",
        "indices = list(range(dataset_sizes_gan['train']))\n",
        "split = int(np.floor(validation_split * dataset_sizes_gan['train']))\n",
        "\n",
        "if shuffle_dataset :\n",
        "    np.random.seed(random_seed)\n",
        "    np.random.shuffle(indices)\n",
        "train_indices, val_indices = indices[split:], indices[:split]\n",
        "\n",
        "# Creating PT data samplers and loaders:\n",
        "train_sampler = SubsetRandomSampler(train_indices)\n",
        "valid_sampler = SubsetRandomSampler(val_indices)\n",
        "data_size_gan = {'train' : 0, 'valid' : 0, 'test' : 0}\n",
        "data_size_gan['train'] = len(train_sampler)\n",
        "data_size_gan['valid'] = len(valid_sampler)\n",
        "data_size_gan['test'] = len(dataloaders['test'])\n",
        "# modifying train and adding validation entry to dataloaders(effectively splitting trainset to train-val):\n",
        "dataloaders_gan['train'] = DataLoader(image_datasets_gan['train'], batch_size=batch_size, sampler=train_sampler)\n",
        "dataloaders_gan['valid'] = DataLoader(image_datasets_gan['train'], batch_size=batch_size, sampler=valid_sampler) "
      ],
      "execution_count": 19,
      "outputs": []
    },
    {
      "cell_type": "code",
      "metadata": {
        "colab": {
          "base_uri": "https://localhost:8080/"
        },
        "id": "1bCldM9afCdx",
        "outputId": "6fdd9a22-b653-43b7-91a1-2338458cd8c4"
      },
      "source": [
        "model_gan = model_gan.to(device)\n",
        "\n",
        "# Gather the parameters to be optimized/updated in this run. If we are\n",
        "#  fine-tuning we will be updating all parameters. However, if we are\n",
        "#  doing feature extract method, we will only update the parameters\n",
        "#  that we have just initialized, i.e. the parameters with requires_grad\n",
        "#  is True.\n",
        "params_to_update = model_gan.parameters()\n",
        "print(\"Params to learn:\")\n",
        "if feature_extract:\n",
        "    params_to_update = []\n",
        "    for name,param in model_gan.named_parameters():\n",
        "        if param.requires_grad == True:\n",
        "            params_to_update.append(param)\n",
        "            print(\"\\t\",name)\n",
        "else:\n",
        "    for name,param in model_gan.named_parameters():\n",
        "        if param.requires_grad == True:\n",
        "            print(\"\\t\",name)\n",
        "\n",
        "# Observe that all parameters are being optimized\n",
        "optimizer_gan = torch.optim.SGD(params_to_update, lr=0.001, momentum=0.9)"
      ],
      "execution_count": 20,
      "outputs": [
        {
          "output_type": "stream",
          "text": [
            "Params to learn:\n",
            "\t features.0.weight\n",
            "\t features.0.bias\n",
            "\t features.2.weight\n",
            "\t features.2.bias\n",
            "\t features.5.weight\n",
            "\t features.5.bias\n",
            "\t features.7.weight\n",
            "\t features.7.bias\n",
            "\t features.10.weight\n",
            "\t features.10.bias\n",
            "\t features.12.weight\n",
            "\t features.12.bias\n",
            "\t features.14.weight\n",
            "\t features.14.bias\n",
            "\t features.17.weight\n",
            "\t features.17.bias\n",
            "\t features.19.weight\n",
            "\t features.19.bias\n",
            "\t features.21.weight\n",
            "\t features.21.bias\n",
            "\t features.24.weight\n",
            "\t features.24.bias\n",
            "\t features.26.weight\n",
            "\t features.26.bias\n",
            "\t features.28.weight\n",
            "\t features.28.bias\n",
            "\t classifier.0.weight\n",
            "\t classifier.0.bias\n",
            "\t classifier.3.weight\n",
            "\t classifier.3.bias\n",
            "\t classifier.6.weight\n",
            "\t classifier.6.bias\n"
          ],
          "name": "stdout"
        }
      ]
    },
    {
      "cell_type": "code",
      "metadata": {
        "colab": {
          "base_uri": "https://localhost:8080/"
        },
        "id": "etU_-Q3CgaR1",
        "outputId": "4da528c2-faf6-4662-ea9e-3c5bd35d2441"
      },
      "source": [
        "# Setup the loss fn\n",
        "criterion = nn.CrossEntropyLoss()\n",
        "\n",
        "# Train and evaluate\n",
        "model_gan, hist_gan = train_model(model_gan, dataloaders_gan, criterion, optimizer_gan, data_size=data_size_gan, num_epochs=num_epochs)"
      ],
      "execution_count": 21,
      "outputs": [
        {
          "output_type": "stream",
          "text": [
            "Epoch 0/14\n",
            "----------\n",
            "train Loss: 0.6600 Acc: 0.5924\n",
            "valid Loss: 0.5139 Acc: 0.8096\n",
            "\n",
            "Epoch 1/14\n",
            "----------\n",
            "train Loss: 0.4000 Acc: 0.8351\n",
            "valid Loss: 0.2919 Acc: 0.8825\n",
            "\n",
            "Epoch 2/14\n",
            "----------\n",
            "train Loss: 0.2427 Acc: 0.9000\n",
            "valid Loss: 0.2281 Acc: 0.9053\n",
            "\n",
            "Epoch 3/14\n",
            "----------\n",
            "train Loss: 0.2294 Acc: 0.9109\n",
            "valid Loss: 0.1665 Acc: 0.9325\n",
            "\n",
            "Epoch 4/14\n",
            "----------\n",
            "train Loss: 0.1576 Acc: 0.9410\n",
            "valid Loss: 0.0817 Acc: 0.9728\n",
            "\n",
            "Epoch 5/14\n",
            "----------\n",
            "train Loss: 0.1549 Acc: 0.9402\n",
            "valid Loss: 0.0822 Acc: 0.9804\n",
            "\n",
            "Epoch 6/14\n",
            "----------\n",
            "train Loss: 0.0997 Acc: 0.9652\n",
            "valid Loss: 0.0554 Acc: 0.9848\n",
            "\n",
            "Epoch 7/14\n",
            "----------\n",
            "train Loss: 0.1011 Acc: 0.9652\n",
            "valid Loss: 0.0614 Acc: 0.9848\n",
            "\n",
            "Epoch 8/14\n",
            "----------\n",
            "train Loss: 0.0881 Acc: 0.9696\n",
            "valid Loss: 0.0652 Acc: 0.9782\n",
            "\n",
            "Epoch 9/14\n",
            "----------\n",
            "train Loss: 0.0770 Acc: 0.9726\n",
            "valid Loss: 0.0466 Acc: 0.9859\n",
            "\n",
            "Epoch 10/14\n",
            "----------\n",
            "train Loss: 0.0576 Acc: 0.9785\n",
            "valid Loss: 0.0458 Acc: 0.9880\n",
            "\n",
            "Epoch 11/14\n",
            "----------\n",
            "train Loss: 0.0858 Acc: 0.9723\n",
            "valid Loss: 0.0571 Acc: 0.9837\n",
            "\n",
            "Epoch 12/14\n",
            "----------\n",
            "train Loss: 0.0642 Acc: 0.9772\n",
            "valid Loss: 0.0462 Acc: 0.9848\n",
            "\n",
            "Epoch 13/14\n",
            "----------\n",
            "train Loss: 0.0687 Acc: 0.9764\n",
            "valid Loss: 0.0518 Acc: 0.9837\n",
            "\n",
            "Epoch 14/14\n",
            "----------\n",
            "train Loss: 0.0633 Acc: 0.9777\n",
            "valid Loss: 0.2443 Acc: 0.9086\n",
            "\n",
            "Training complete in 35m 41s\n",
            "Best val Acc: 0.988030\n"
          ],
          "name": "stdout"
        }
      ]
    },
    {
      "cell_type": "markdown",
      "metadata": {
        "id": "JjClbud77yIB"
      },
      "source": [
        "Finally compare the models on test accuracy:"
      ]
    },
    {
      "cell_type": "code",
      "metadata": {
        "colab": {
          "base_uri": "https://localhost:8080/"
        },
        "id": "MgGtTOtK7xY4",
        "outputId": "6dc2b238-cb86-426c-9ef2-6bf9ca5a735b"
      },
      "source": [
        "\n",
        "running_loss_orig = 0.0\n",
        "running_corrects_orig = 0\n",
        "running_loss_gan = 0.0\n",
        "running_corrects_gan = 0\n",
        "\n",
        "#iterate over test\n",
        "for inputs, labels in dataloaders['test']:\n",
        "    inputs = inputs.to(device)\n",
        "    labels = labels.to(device)\n",
        "\n",
        "    # forward\n",
        "    # track history if only in train\n",
        "    with torch.set_grad_enabled(False):\n",
        "        # Get model outputs and calculate loss\n",
        "        outputs_orig = model_orig(inputs)\n",
        "        outputs_gan = model_gan(inputs)\n",
        "        loss_orig = criterion(outputs_orig, labels)\n",
        "        loss_gan = criterion(outputs_gan, labels)\n",
        "\n",
        "        _, preds_orig = torch.max(outputs_orig, 1)\n",
        "        _, preds_gan = torch.max(outputs_gan, 1)\n",
        "\n",
        "    # statistics\n",
        "    running_loss_orig += loss_orig.item() * inputs.size(0)\n",
        "    running_corrects_orig += torch.sum(preds_orig == labels.data)\n",
        "\n",
        "    running_loss_gan += loss_gan.item() * inputs.size(0)\n",
        "    running_corrects_gan += torch.sum(preds_gan == labels.data)\n",
        "\n",
        "epoch_loss_orig = running_loss_orig / len(dataloaders['test'].dataset)\n",
        "epoch_acc_orig = running_corrects_orig.double() / len(dataloaders['test'].dataset)\n",
        "\n",
        "epoch_loss_gan = running_loss_gan / len(dataloaders['test'].dataset)\n",
        "epoch_acc_gan = running_corrects_gan.double() / len(dataloaders['test'].dataset)\n",
        "\n",
        "print('Original {} Loss: {:.4f} Original Acc: {:.4f}'.format('test', epoch_loss_orig, epoch_acc_orig))\n",
        "print('GAN enriched {} Loss: {:.4f} GAN enriched Acc: {:.4f}'.format('test', epoch_loss_gan, epoch_acc_gan))"
      ],
      "execution_count": 22,
      "outputs": [
        {
          "output_type": "stream",
          "text": [
            "Original test Loss: 0.4199 Original Acc: 0.8163\n",
            "GAN enriched test Loss: 0.2735 GAN enriched Acc: 0.8776\n"
          ],
          "name": "stdout"
        }
      ]
    },
    {
      "cell_type": "code",
      "metadata": {
        "colab": {
          "base_uri": "https://localhost:8080/",
          "height": 297
        },
        "id": "bxfNNLuZMRdY",
        "outputId": "0157d461-7f99-41d7-e728-93f9c90be932"
      },
      "source": [
        "# plot train-val loss\n",
        "plt.plot( range(1,num_epochs+1),hist_orig,label = 'orig validation accuracy')\n",
        "plt.plot( range(1,num_epochs+1),hist_gan,label = 'gan validation accuracy')\n",
        "plt.xlabel(\"No. of Epoch\")\n",
        "plt.ylabel(\"Loss\")\n",
        "plt.title(\"Epochs vs Loss\")\n",
        "plt.grid(True)\n",
        "plt.legend()\n",
        "plt.tight_layout()\n",
        "plt.show()"
      ],
      "execution_count": 23,
      "outputs": [
        {
          "output_type": "display_data",
          "data": {
            "image/png": "[encoded data removed]",
            "text/plain": [
              "<Figure size 432x288 with 1 Axes>"
            ]
          },
          "metadata": {
            "tags": [],
            "needs_background": "light"
          }
        }
      ]
    },
    {
      "cell_type": "code",
      "metadata": {
        "id": "KzJ8s4kzEOWi"
      },
      "source": [
        ""
      ],
      "execution_count": null,
      "outputs": []
    }
  ]
}